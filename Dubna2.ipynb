{
  "nbformat": 4,
  "nbformat_minor": 0,
  "metadata": {
    "colab": {
      "provenance": []
    },
    "kernelspec": {
      "name": "python3",
      "display_name": "Python 3"
    },
    "language_info": {
      "name": "python"
    }
  },
  "cells": [
    {
      "cell_type": "code",
      "execution_count": null,
      "metadata": {
        "id": "f0p1LCiwJ_jc"
      },
      "outputs": [],
      "source": [
        "!wget https://lodmedia.hb.bizmrg.com/case_files/852830/train_dataset_train.csv\n",
        "!wget https://lodmedia.hb.bizmrg.com/cases/852830/%D0%9C%D0%BE%D1%81%D0%BA%D0%BE%D0%B2%D1%81%D0%BA%D0%B0%D1%8F_%D0%BE%D0%B1%D0%BB%D0%B0%D1%81%D1%82%D1%8C.zip"
      ]
    },
    {
      "cell_type": "code",
      "source": [
        "!unzip Московская_область.zip"
      ],
      "metadata": {
        "id": "bx0nbp3BKjqO"
      },
      "execution_count": null,
      "outputs": []
    },
    {
      "cell_type": "code",
      "source": [
        "!pip install catboost"
      ],
      "metadata": {
        "id": "IpgVh59XKjlT"
      },
      "execution_count": null,
      "outputs": []
    },
    {
      "cell_type": "code",
      "source": [
        "import time\n",
        "import os\n",
        "import shutil\n",
        "import pandas as pd\n",
        "import numpy as np\n",
        "import matplotlib.pyplot as plt\n",
        "import seaborn as sns\n",
        "from sklearn.cluster import dbscan,DBSCAN\n",
        "from sklearn.manifold import TSNE\n",
        "from sklearn.feature_extraction.text import TfidfTransformer, CountVectorizer, TfidfVectorizer\n",
        "from sklearn.linear_model import LinearRegression, LogisticRegression, SGDClassifier, SGDRegressor, RidgeClassifier, LogisticRegressionCV,Ridge,QuantileRegressor,PassiveAggressiveClassifier,PoissonRegressor\n",
        "from sklearn.ensemble import ExtraTreesRegressor,ExtraTreesClassifier,RandomForestClassifier,VotingClassifier,RandomForestRegressor,GradientBoostingClassifier,GradientBoostingRegressor,StackingRegressor,BaggingClassifier\n",
        "from sklearn.tree import DecisionTreeRegressor,DecisionTreeClassifier\n",
        "from sklearn.svm import LinearSVC,LinearSVR,SVR,NuSVR\n",
        "from sklearn.decomposition import TruncatedSVD,PCA,FactorAnalysis,IncrementalPCA,FastICA,KernelPCA,NMF\n",
        "from sklearn.preprocessing import RobustScaler,QuantileTransformer,PowerTransformer,PolynomialFeatures,KBinsDiscretizer,StandardScaler,OneHotEncoder,OrdinalEncoder,FunctionTransformer,MaxAbsScaler,MinMaxScaler\n",
        "from sklearn.model_selection import cross_val_score\n",
        "from sklearn.pipeline import Pipeline,FeatureUnion,TransformerMixin\n",
        "from sklearn.neighbors import KNeighborsClassifier,KNeighborsRegressor,LocalOutlierFactor\n",
        "from sklearn.model_selection import train_test_split,ShuffleSplit,StratifiedShuffleSplit,TimeSeriesSplit,GridSearchCV,KFold\n",
        "from sklearn.feature_selection import SelectFromModel\n",
        "from sklearn.compose import ColumnTransformer\n",
        "from sklearn.impute import KNNImputer,SimpleImputer\n",
        "from sklearn.dummy import DummyRegressor,DummyClassifier\n",
        "from sklearn import set_config\n",
        "import catboost\n",
        "from sklearn.metrics import r2_score,mean_absolute_error,mean_squared_error,roc_auc_score,accuracy_score,f1_score,classification_report,recall_score,make_scorer"
      ],
      "metadata": {
        "id": "__r8ekxdKjiN"
      },
      "execution_count": null,
      "outputs": []
    },
    {
      "cell_type": "code",
      "source": [
        "train=pd.read_csv('/content/train_dataset_train.csv')\n",
        "test=pd.read_csv('/content/sample_solution.csv')\n",
        "decision=pd.read_excel('/content/decision.xlsx')\n",
        "user=pd.read_csv('/content/user.csv')\n",
        "userd=pd.read_csv('/content/user_decision.csv')\n",
        "team=pd.read_csv('/content/team_point.csv')"
      ],
      "metadata": {
        "id": "fjPLiMj6Kjc9"
      },
      "execution_count": null,
      "outputs": []
    },
    {
      "cell_type": "code",
      "source": [
        "# перенесём данные из всех таблиц в train и test\n",
        "team2=pd.DataFrame(team['team_id'].unique())\n",
        "team2.columns=['team_id']\n",
        "for cnt1 in range(1,7):\n",
        "  for cnt2 in range(9):\n",
        "    team2[str(cnt1)+'_'+str(cnt2)]=0\n",
        "for cnt1 in range(1,7):\n",
        "  for cnt2 in range(9):\n",
        "    subteam=team[team['category_id']==cnt1]\n",
        "    subteam=subteam[subteam['period']==cnt2]\n",
        "    for cnt3 in team2['team_id']:\n",
        "      try:\n",
        "        team2.loc[team2['team_id']==cnt3,str(cnt1)+'_'+str(cnt2)]=subteam['score'][subteam['team_id']==cnt3].values\n",
        "      except:\n",
        "        pass\n",
        "for cnt1 in range(1,7):\n",
        "  for cnt2 in range(9):\n",
        "    user[str(cnt1)+'_'+str(cnt2)]=0\n",
        "\n",
        "for cnt1 in user['user_id']:\n",
        "  user.loc[user['user_id']==cnt1,['1_0', '1_1', '1_2', '1_3', '1_4', '1_5', '1_6', '1_7',\n",
        "       '1_8', '2_0', '2_1', '2_2', '2_3', '2_4', '2_5', '2_6', '2_7', '2_8',\n",
        "       '3_0', '3_1', '3_2', '3_3', '3_4', '3_5', '3_6', '3_7', '3_8', '4_0',\n",
        "       '4_1', '4_2', '4_3', '4_4', '4_5', '4_6', '4_7', '4_8', '5_0', '5_1',\n",
        "       '5_2', '5_3', '5_4', '5_5', '5_6', '5_7', '5_8', '6_0', '6_1', '6_2',\n",
        "       '6_3', '6_4', '6_5', '6_6', '6_7', '6_8']]=team2.loc[\n",
        "       team2['team_id']==user['team_id'][user['user_id']==cnt1].values[0],['1_0', '1_1', '1_2', '1_3', '1_4', '1_5', '1_6', '1_7',\n",
        "       '1_8', '2_0', '2_1', '2_2', '2_3', '2_4', '2_5', '2_6', '2_7', '2_8',\n",
        "       '3_0', '3_1', '3_2', '3_3', '3_4', '3_5', '3_6', '3_7', '3_8', '4_0',\n",
        "       '4_1', '4_2', '4_3', '4_4', '4_5', '4_6', '4_7', '4_8', '5_0', '5_1',\n",
        "       '5_2', '5_3', '5_4', '5_5', '5_6', '5_7', '5_8', '6_0', '6_1', '6_2',\n",
        "       '6_3', '6_4', '6_5', '6_6', '6_7', '6_8']]\n",
        "ddict=dict(zip(decision['decision_id'],decision['decision_name']))\n",
        "ddict.update({311:'311'})\n",
        "userd['decision_name']=list(map(lambda x: ddict[x],userd['decision_id'].tolist()))\n",
        "for cnt in range(1,9):\n",
        "  train[str(cnt)]=''\n",
        "for cnt in range(1,9):\n",
        "  for cnt1 in train['id']:\n",
        "    subuserd=userd[userd['user_id']==cnt1]\n",
        "    train.loc[train['id']==cnt1,str(cnt)]=' '.join(subuserd['decision_id'][subuserd['period']==cnt].astype('int').astype('str').tolist())\n",
        "for cnt in range(1,9):\n",
        "  train[str(cnt)]=''\n",
        "for cnt in range(1,9):\n",
        "  for cnt1 in train['id']:\n",
        "    subuserd=userd[userd['user_id']==cnt1]\n",
        "    train.loc[train['id']==cnt1,str(cnt)]=' '.join(subuserd['decision_name'][subuserd['period']==cnt].astype('str').tolist())\n",
        "for cnt1 in range(1,7):\n",
        "  for cnt2 in range(9):\n",
        "    train[str(cnt1)+'_'+str(cnt2)]=0\n",
        "\n",
        "for cnt1 in train['id']:\n",
        "  train.loc[train['id']==cnt1,['1_0', '1_1', '1_2', '1_3', '1_4', '1_5', '1_6', '1_7',\n",
        "       '1_8', '2_0', '2_1', '2_2', '2_3', '2_4', '2_5', '2_6', '2_7', '2_8',\n",
        "       '3_0', '3_1', '3_2', '3_3', '3_4', '3_5', '3_6', '3_7', '3_8', '4_0',\n",
        "       '4_1', '4_2', '4_3', '4_4', '4_5', '4_6', '4_7', '4_8', '5_0', '5_1',\n",
        "       '5_2', '5_3', '5_4', '5_5', '5_6', '5_7', '5_8', '6_0', '6_1', '6_2',\n",
        "       '6_3', '6_4', '6_5', '6_6', '6_7', '6_8']]=user.loc[\n",
        "       user['user_id']==cnt1,['1_0', '1_1', '1_2', '1_3', '1_4', '1_5', '1_6', '1_7',\n",
        "       '1_8', '2_0', '2_1', '2_2', '2_3', '2_4', '2_5', '2_6', '2_7', '2_8',\n",
        "       '3_0', '3_1', '3_2', '3_3', '3_4', '3_5', '3_6', '3_7', '3_8', '4_0',\n",
        "       '4_1', '4_2', '4_3', '4_4', '4_5', '4_6', '4_7', '4_8', '5_0', '5_1',\n",
        "       '5_2', '5_3', '5_4', '5_5', '5_6', '5_7', '5_8', '6_0', '6_1', '6_2',\n",
        "       '6_3', '6_4', '6_5', '6_6', '6_7', '6_8']]\n",
        "train.loc[:,['1_0', '1_1', '1_2', '1_3', '1_4', '1_5', '1_6', '1_7',\n",
        "       '1_8', '2_0', '2_1', '2_2', '2_3', '2_4', '2_5', '2_6', '2_7', '2_8',\n",
        "       '3_0', '3_1', '3_2', '3_3', '3_4', '3_5', '3_6', '3_7', '3_8', '4_0',\n",
        "       '4_1', '4_2', '4_3', '4_4', '4_5', '4_6', '4_7', '4_8', '5_0', '5_1',\n",
        "       '5_2', '5_3', '5_4', '5_5', '5_6', '5_7', '5_8', '6_0', '6_1', '6_2',\n",
        "       '6_3', '6_4', '6_5', '6_6', '6_7', '6_8']]=train.loc[:,['1_0', '1_1', '1_2', '1_3', '1_4', '1_5', '1_6', '1_7',\n",
        "       '1_8', '2_0', '2_1', '2_2', '2_3', '2_4', '2_5', '2_6', '2_7', '2_8',\n",
        "       '3_0', '3_1', '3_2', '3_3', '3_4', '3_5', '3_6', '3_7', '3_8', '4_0',\n",
        "       '4_1', '4_2', '4_3', '4_4', '4_5', '4_6', '4_7', '4_8', '5_0', '5_1',\n",
        "       '5_2', '5_3', '5_4', '5_5', '5_6', '5_7', '5_8', '6_0', '6_1', '6_2',\n",
        "       '6_3', '6_4', '6_5', '6_6', '6_7', '6_8']].fillna(0).astype('int')\n",
        "for cnt in range(1,9):\n",
        "  test[str(cnt)]=''\n",
        "for cnt in range(1,9):\n",
        "  for cnt1 in test['id']:\n",
        "    subuserd=userd[userd['user_id']==cnt1]\n",
        "    test.loc[test['id']==cnt1,str(cnt)]=' '.join(subuserd['decision_id'][subuserd['period']==cnt].astype('int').astype('str').tolist())\n",
        "for cnt in range(1,9):\n",
        "  test[str(cnt)]=''\n",
        "for cnt in range(1,9):\n",
        "  for cnt1 in test['id']:\n",
        "    subuserd=userd[userd['user_id']==cnt1]\n",
        "    test.loc[test['id']==cnt1,str(cnt)]=' '.join(subuserd['decision_name'][subuserd['period']==cnt].astype('str').tolist())\n",
        "test['team_id']=''\n",
        "test['game_id']=''\n",
        "for cnt1 in train['id']:\n",
        "  subuser=user[user['user_id']==cnt1]\n",
        "  test.loc[test['id']==cnt1,'team_id']=' '.join(subuser['team_id'].astype('int').astype('str').tolist())\n",
        "  test.loc[test['id']==cnt1,'game_id']=' '.join(subuser['game_id'].astype('int').astype('str').tolist())\n",
        "for cnt1 in range(1,7):\n",
        "  for cnt2 in range(9):\n",
        "    test[str(cnt1)+'_'+str(cnt2)]=0\n",
        "\n",
        "for cnt1 in test['id']:\n",
        "  test.loc[test['id']==cnt1,['1_0', '1_1', '1_2', '1_3', '1_4', '1_5', '1_6', '1_7',\n",
        "       '1_8', '2_0', '2_1', '2_2', '2_3', '2_4', '2_5', '2_6', '2_7', '2_8',\n",
        "       '3_0', '3_1', '3_2', '3_3', '3_4', '3_5', '3_6', '3_7', '3_8', '4_0',\n",
        "       '4_1', '4_2', '4_3', '4_4', '4_5', '4_6', '4_7', '4_8', '5_0', '5_1',\n",
        "       '5_2', '5_3', '5_4', '5_5', '5_6', '5_7', '5_8', '6_0', '6_1', '6_2',\n",
        "       '6_3', '6_4', '6_5', '6_6', '6_7', '6_8']]=user.loc[\n",
        "       user['user_id']==cnt1,['1_0', '1_1', '1_2', '1_3', '1_4', '1_5', '1_6', '1_7',\n",
        "       '1_8', '2_0', '2_1', '2_2', '2_3', '2_4', '2_5', '2_6', '2_7', '2_8',\n",
        "       '3_0', '3_1', '3_2', '3_3', '3_4', '3_5', '3_6', '3_7', '3_8', '4_0',\n",
        "       '4_1', '4_2', '4_3', '4_4', '4_5', '4_6', '4_7', '4_8', '5_0', '5_1',\n",
        "       '5_2', '5_3', '5_4', '5_5', '5_6', '5_7', '5_8', '6_0', '6_1', '6_2',\n",
        "       '6_3', '6_4', '6_5', '6_6', '6_7', '6_8']]\n",
        "test.loc[:,['1_0', '1_1', '1_2', '1_3', '1_4', '1_5', '1_6', '1_7',\n",
        "       '1_8', '2_0', '2_1', '2_2', '2_3', '2_4', '2_5', '2_6', '2_7', '2_8',\n",
        "       '3_0', '3_1', '3_2', '3_3', '3_4', '3_5', '3_6', '3_7', '3_8', '4_0',\n",
        "       '4_1', '4_2', '4_3', '4_4', '4_5', '4_6', '4_7', '4_8', '5_0', '5_1',\n",
        "       '5_2', '5_3', '5_4', '5_5', '5_6', '5_7', '5_8', '6_0', '6_1', '6_2',\n",
        "       '6_3', '6_4', '6_5', '6_6', '6_7', '6_8']]=test.loc[:,['1_0', '1_1', '1_2', '1_3', '1_4', '1_5', '1_6', '1_7',\n",
        "       '1_8', '2_0', '2_1', '2_2', '2_3', '2_4', '2_5', '2_6', '2_7', '2_8',\n",
        "       '3_0', '3_1', '3_2', '3_3', '3_4', '3_5', '3_6', '3_7', '3_8', '4_0',\n",
        "       '4_1', '4_2', '4_3', '4_4', '4_5', '4_6', '4_7', '4_8', '5_0', '5_1',\n",
        "       '5_2', '5_3', '5_4', '5_5', '5_6', '5_7', '5_8', '6_0', '6_1', '6_2',\n",
        "       '6_3', '6_4', '6_5', '6_6', '6_7', '6_8']].fillna(0).astype('int')    "
      ],
      "metadata": {
        "id": "dBsijkABKjZJ"
      },
      "execution_count": null,
      "outputs": []
    },
    {
      "cell_type": "code",
      "source": [
        "# обучение модели\n",
        "for cnt in ['Analytical thinking', 'Systemic thinking','Adaptability', 'Focus']:\n",
        "  cls=catboost.CatBoostClassifier(iterations=200, \n",
        "                                learning_rate=0.1,\n",
        "                                loss_function='MultiClassOneVsAll',\n",
        "                                auto_class_weights='Balanced', \n",
        "                                eval_metric='TotalF1:average=Macro',\n",
        "                                tokenizers=[\n",
        "        {\n",
        "            'tokenizer_id': 'Sense',\n",
        "            'separator_type': 'BySense',\n",
        "            'lowercasing': 'True',\n",
        "            'token_types':['Word', 'Number', 'SentenceBreak'],\n",
        "            'sub_tokens_policy':'SeveralTokens'\n",
        "        }      \n",
        "    ],\n",
        "    dictionaries = [\n",
        "        {\n",
        "            'dictionary_id': 'Word',\n",
        "            'max_dictionary_size': '50000'\n",
        "        }\n",
        "    ],\n",
        "    feature_calcers = [\n",
        "        'BoW:top_tokens_count=10000'\n",
        "    ])\n",
        "  cls.fit(train[[ '1', '2', '3', '4', '5', '6', '7', '8', 'team_id', 'game_id',\n",
        "       '1_0', '1_1', '1_2', '1_3', '1_4', '1_5', '1_6', '1_7', '1_8', '2_0',\n",
        "       '2_1', '2_2', '2_3', '2_4', '2_5', '2_6', '2_7', '2_8', '3_0', '3_1',\n",
        "       '3_2', '3_3', '3_4', '3_5', '3_6', '3_7', '3_8', '4_0', '4_1', '4_2',\n",
        "       '4_3', '4_4', '4_5', '4_6', '4_7', '4_8', '5_0', '5_1', '5_2', '5_3',\n",
        "       '5_4', '5_5', '5_6', '5_7', '5_8', '6_0', '6_1', '6_2', '6_3', '6_4',\n",
        "       '6_5', '6_6', '6_7', '6_8']],train[cnt],\n",
        "        cat_features=['team_id', 'game_id',\n",
        "       '1_0', '1_1', '1_2', '1_3', '1_4', '1_5', '1_6', '1_7', '1_8', '2_0',\n",
        "       '2_1', '2_2', '2_3', '2_4', '2_5', '2_6', '2_7', '2_8', '3_0', '3_1',\n",
        "       '3_2', '3_3', '3_4', '3_5', '3_6', '3_7', '3_8', '4_0', '4_1', '4_2',\n",
        "       '4_3', '4_4', '4_5', '4_6', '4_7', '4_8', '5_0', '5_1', '5_2', '5_3',\n",
        "       '5_4', '5_5', '5_6', '5_7', '5_8', '6_0', '6_1', '6_2', '6_3', '6_4',\n",
        "       '6_5', '6_6', '6_7', '6_8'], \n",
        "        text_features=['1', '2', '3', '4'],\n",
        "        verbose=40)\n",
        "  test[cnt]=cls.predict(test[[ '1', '2', '3', '4', '5', '6', '7', '8', 'team_id', 'game_id',\n",
        "       '1_0', '1_1', '1_2', '1_3', '1_4', '1_5', '1_6', '1_7', '1_8', '2_0',\n",
        "       '2_1', '2_2', '2_3', '2_4', '2_5', '2_6', '2_7', '2_8', '3_0', '3_1',\n",
        "       '3_2', '3_3', '3_4', '3_5', '3_6', '3_7', '3_8', '4_0', '4_1', '4_2',\n",
        "       '4_3', '4_4', '4_5', '4_6', '4_7', '4_8', '5_0', '5_1', '5_2', '5_3',\n",
        "       '5_4', '5_5', '5_6', '5_7', '5_8', '6_0', '6_1', '6_2', '6_3', '6_4',\n",
        "       '6_5', '6_6', '6_7', '6_8']])"
      ],
      "metadata": {
        "id": "v9VtKgEaKjT8"
      },
      "execution_count": null,
      "outputs": []
    },
    {
      "cell_type": "code",
      "source": [
        "test.loc[:,['Analytical thinking', 'Systemic thinking', 'Adaptability','Focus'\n",
        "]]=test.loc[:,['Analytical thinking', 'Systemic thinking', 'Adaptability','Focus']].astype('int')\n",
        "submit=test[['id','Analytical thinking', 'Systemic thinking', 'Adaptability','Focus']]\n",
        "submit.to_csv('submit.csv',index=False)"
      ],
      "metadata": {
        "id": "sFnHgjh-KjOm"
      },
      "execution_count": null,
      "outputs": []
    },
    {
      "cell_type": "code",
      "source": [],
      "metadata": {
        "id": "HfKVCwgkKjKM"
      },
      "execution_count": null,
      "outputs": []
    },
    {
      "cell_type": "code",
      "source": [],
      "metadata": {
        "id": "1oM2Py_4KjFz"
      },
      "execution_count": null,
      "outputs": []
    },
    {
      "cell_type": "code",
      "source": [],
      "metadata": {
        "id": "wrvCzsMBKjAG"
      },
      "execution_count": null,
      "outputs": []
    },
    {
      "cell_type": "code",
      "source": [],
      "metadata": {
        "id": "sGFxnFtQKi5q"
      },
      "execution_count": null,
      "outputs": []
    },
    {
      "cell_type": "code",
      "source": [],
      "metadata": {
        "id": "6FnZSHJrKi1X"
      },
      "execution_count": null,
      "outputs": []
    }
  ]
}